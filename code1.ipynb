{
 "cells": [
  {
   "cell_type": "code",
   "execution_count": null,
   "metadata": {},
   "outputs": [],
   "source": [
    "import numpy as np\n",
    "import matplotlib.pyplot as plt\n",
    "# Define the dataset\n",
    "data = np.array([\n",
    "[0.2396, -0.4788],\n",
    "[-0.1087, 0.6880],\n",
    "[-0.6076, -0.3923],\n",
    "[-0.0334, -0.3244],\n",
    "[0.5970, 0.9750],\n",
    "[-0.6819, -0.5262],\n",
    "[0.4045, -0.2491],\n",
    "[0.9474, 0.9446],\n",
    "[0.2874, 0.7202],\n",
    "[-0.1962, 0.2639],\n",
    "[0.2396, -0.4788]\n",
    "])\n",
    "# Define SOM parameters\n",
    "W_Size = 20 # Size of the weight matrix\n",
    "alpha_0 = 0.8 # Initial learning rate\n",
    "Epoch = 500 # Maximum number of iterations\n",
    "# Initialize SOM Weight\n",
    "W = np.random.rand(W_Size, 2)\n",
    "# Training the SOM\n",
    "for t in range(Epoch):\n",
    "# Randomly select a data point\n",
    "index = np.random.randint(len(data))\n",
    "current_data = data[index]\n",
    "# Find the winning neuron\n",
    "distances = np.linalg.norm(W - current_data, axis=1)\n",
    "winner_index = np.argmin(distances)\n",
    "# Update the weights\n",
    "for i in range(W_Size):\n",
    "neighborhood = np.exp(-((i - winner_index) ** 2) / (2 * 1 ** 2))\n",
    "W[i] = W[i] + alpha_decay(t) * neighborhood * (current_data - W[i])\n",
    "# Plot the outputs at 50 intervals\n",
    "if t == 0 or (t + 1) % 50 == 0:\n",
    "plt.scatter(W[:, 0],W[:, 1], marker='o', label=f'Step {t+1}')\n",
    "plt.title(f'Kohonen Self-Organizing Map - Step {t+1}')\n",
    "plt.legend()\n",
    "# Define the learning rate decay function\n",
    "def alpha_decay(t):\n",
    "return alpha_0 - 0.0039 * t\n",
    "plt.grid(True)\n",
    "plt.show()\n"
   ]
  }
 ],
 "metadata": {
  "language_info": {
   "name": "python"
  }
 },
 "nbformat": 4,
 "nbformat_minor": 2
}
